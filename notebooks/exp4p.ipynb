{
 "cells": [
  {
   "cell_type": "markdown",
   "metadata": {
    "id": "c_cbt_fwZKYb"
   },
   "source": [
    "Setup an environment for python interpreter (`which python`) not for the interpreter that is built-in in the notebook kernel (`sys.version`)"
   ]
  },
  {
   "cell_type": "code",
   "execution_count": null,
   "metadata": {
    "colab": {
     "base_uri": "https://localhost:8080/"
    },
    "executionInfo": {
     "elapsed": 73966,
     "status": "ok",
     "timestamp": 1713028731319,
     "user": {
      "displayName": "Boaz Lavon",
      "userId": "15662528694417338868"
     },
     "user_tz": -180
    },
    "id": "f_nwpj0CHith",
    "outputId": "8445f45f-6a81-491a-95d7-f29fb7def079"
   },
   "outputs": [],
   "source": [
    "!wget -O mini.sh https://repo.anaconda.com/miniconda/Miniconda3-py39_4.9.2-Linux-x86_64.sh\n",
    "!chmod +x mini.sh\n",
    "!bash ./mini.sh -b -f -p /usr/local\n",
    "!conda install -q -y jupyter\n",
    "!conda install -q -y google-colab -c conda-forge\n",
    "!python -m ipykernel install --name \"py39\" --user\n",
    "!pip install ipdb\n",
    "!pip install torch\n",
    "!python --version"
   ]
  },
  {
   "cell_type": "code",
   "execution_count": null,
   "metadata": {
    "id": "XfRXxlBUfyz8"
   },
   "outputs": [],
   "source": [
    "from google.colab import drive\n",
    "drive.mount('/content/gdrive')\n",
    "\n",
    "# you should create a directory code/advml_course in your drive\n",
    "%cd /content/gdrive/MyDrive/code/advml_course"
   ]
  },
  {
   "cell_type": "code",
   "execution_count": null,
   "metadata": {
    "id": "p9jR3O3afynu"
   },
   "outputs": [],
   "source": [
    "# CLONE IT LOCALLY ON YOUR PC that is synced with google drive so your git credentials will be synced\n",
    "#!git clone https://github.com/boazlavon/striatum.git"
   ]
  },
  {
   "cell_type": "code",
   "execution_count": null,
   "metadata": {
    "colab": {
     "base_uri": "https://localhost:8080/"
    },
    "executionInfo": {
     "elapsed": 178087,
     "status": "ok",
     "timestamp": 1713029328039,
     "user": {
      "displayName": "Boaz Lavon",
      "userId": "15662528694417338868"
     },
     "user_tz": -180
    },
    "id": "Je50H9gRGU4Y",
    "outputId": "07e1a7a9-eb6e-4559-fa3a-1ef24d0de3ef"
   },
   "outputs": [],
   "source": [
    "%cd /content/gdrive/MyDrive/code/advml_course/striatum\n",
    "!ls /content/gdrive/MyDrive/code/advml_course/striatum\n",
    "\n",
    "!pip install -r requirements.txt"
   ]
  },
  {
   "cell_type": "markdown",
   "metadata": {
    "id": "yXGPJUzNRF9N"
   },
   "source": [
    "Run Exp4P using synthetic dataset"
   ]
  },
  {
   "cell_type": "code",
   "execution_count": null,
   "metadata": {
    "colab": {
     "base_uri": "https://localhost:8080/"
    },
    "executionInfo": {
     "elapsed": 26810,
     "status": "ok",
     "timestamp": 1713014819074,
     "user": {
      "displayName": "Boaz Lavon",
      "userId": "15662528694417338868"
     },
     "user_tz": -180
    },
    "id": "3iCATQnaKil_",
    "outputId": "e91aa158-f163-4b48-a936-0092be147d00"
   },
   "outputs": [],
   "source": [
    "#!python simulation/simulation_exp4p.py"
   ]
  },
  {
   "cell_type": "markdown",
   "metadata": {
    "id": "gdx5Cvx4QysW"
   },
   "source": [
    "Pre-Process Data - Movielen dataset"
   ]
  },
  {
   "cell_type": "code",
   "execution_count": null,
   "metadata": {
    "id": "jgDv-mGNpDwF"
   },
   "outputs": [],
   "source": [
    "#!python examples/movielens_preprocess.py"
   ]
  },
  {
   "cell_type": "markdown",
   "metadata": {
    "id": "oZOhgMSWYoE4"
   },
   "source": [
    "Run Exp4P using movielens dataset"
   ]
  },
  {
   "cell_type": "code",
   "execution_count": null,
   "metadata": {
    "colab": {
     "base_uri": "https://localhost:8080/"
    },
    "executionInfo": {
     "elapsed": 59053,
     "status": "ok",
     "timestamp": 1713029427956,
     "user": {
      "displayName": "Boaz Lavon",
      "userId": "15662528694417338868"
     },
     "user_tz": -180
    },
    "id": "GpfO3Ll9gZs2",
    "outputId": "30aa914b-59a2-49c5-dc0c-e3a242567148"
   },
   "outputs": [],
   "source": [
    "import os\n",
    "os.environ['PYTHONPATH'] += \":/content/gdrive/MyDrive/code/advml_course/striatum\"\n",
    "!pip install ."
   ]
  },
  {
   "cell_type": "code",
   "execution_count": null,
   "metadata": {
    "colab": {
     "background_save": true,
     "base_uri": "https://localhost:8080/"
    },
    "id": "uTDNULR-80EB"
   },
   "outputs": [],
   "source": [
    "!python examples/movielens_bandit.py"
   ]
  }
 ],
 "metadata": {
  "colab": {
   "authorship_tag": "ABX9TyPmjiAgbzP4DqDrcGzqKmkd",
   "name": "",
   "provenance": [
    {
     "file_id": "17gnF_Xs8DbninliQkghmssE1SY15BYof",
     "timestamp": 1713028526989
    }
   ],
   "version": ""
  },
  "kernelspec": {
   "display_name": "Python 3",
   "name": "python3"
  },
  "language_info": {
   "name": "python"
  }
 },
 "nbformat": 4,
 "nbformat_minor": 0
}
